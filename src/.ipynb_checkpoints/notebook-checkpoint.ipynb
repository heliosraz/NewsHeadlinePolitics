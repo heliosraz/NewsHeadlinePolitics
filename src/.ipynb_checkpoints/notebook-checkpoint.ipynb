{
 "cells": [
  {
   "cell_type": "markdown",
   "id": "795c2db1",
   "metadata": {},
   "source": [
    "# Political Specturm of New Headlines\n",
    "The purpose of t"
   ]
  },
  {
   "cell_type": "code",
   "execution_count": 3,
   "id": "a4ebe2fe",
   "metadata": {
    "scrolled": true
   },
   "outputs": [],
   "source": [
    "import model\n",
    "import numpy as np"
   ]
  },
  {
   "cell_type": "markdown",
   "id": "6b58fe86",
   "metadata": {},
   "source": [
    "We use a Naive Bayes model to predict which political ___ the headline leans. The higher the probablity the higher the confidence. "
   ]
  },
  {
   "cell_type": "code",
   "execution_count": 4,
   "id": "d5484178",
   "metadata": {},
   "outputs": [],
   "source": [
    "X=[]\n",
    "y=[]"
   ]
  },
  {
   "cell_type": "code",
   "execution_count": 6,
   "id": "29cbe709",
   "metadata": {
    "scrolled": true
   },
   "outputs": [
    {
     "name": "stdout",
     "output_type": "stream",
     "text": [
      "['nyt_headlines.csv', 'foxnews_headlines.csv', 'washingtonpost_headlines.csv', 'csmonitor_headlines.csv', 'nypost_headlines.csv', 'cnn_headlines.csv']\n",
      "18\n",
      "18\n"
     ]
    }
   ],
   "source": [
    "term_document_matrices,y=model.term_matrix()\n",
    "\n",
    "for i in term_document_matrices:\n",
    "    for j in i:\n",
    "        X=[X,j]\n",
    "X=np.array(print(model.term_matrix()))"
   ]
  },
  {
   "cell_type": "markdown",
   "id": "165aa0c5",
   "metadata": {},
   "source": [
    "We will be testing the model here"
   ]
  },
  {
   "cell_type": "code",
   "execution_count": 9,
   "id": "10b6f3e6",
   "metadata": {},
   "outputs": [
    {
     "ename": "AttributeError",
     "evalue": "'list' object has no attribute 'shape'",
     "output_type": "error",
     "traceback": [
      "\u001b[0;31m---------------------------------------------------------------------------\u001b[0m",
      "\u001b[0;31mAttributeError\u001b[0m                            Traceback (most recent call last)",
      "Cell \u001b[0;32mIn [9], line 3\u001b[0m\n\u001b[1;32m      1\u001b[0m count_correct\u001b[38;5;241m=\u001b[39m\u001b[38;5;241m0\u001b[39m\n\u001b[1;32m      2\u001b[0m \u001b[38;5;28;01mfor\u001b[39;00m i \u001b[38;5;129;01min\u001b[39;00m \u001b[38;5;28mrange\u001b[39m(\u001b[38;5;241m20\u001b[39m):\n\u001b[0;32m----> 3\u001b[0m     pred \u001b[38;5;241m=\u001b[39m model\u001b[38;5;241m.\u001b[39mbayes_prediction(X[i],X,y)\n\u001b[1;32m      4\u001b[0m     target \u001b[38;5;241m=\u001b[39m y[i]\n\u001b[1;32m      5\u001b[0m     \u001b[38;5;28mprint\u001b[39m(\u001b[38;5;124mf\u001b[39m\u001b[38;5;124m'\u001b[39m\u001b[38;5;124mpredicting: \u001b[39m\u001b[38;5;132;01m{\u001b[39;00mpred\u001b[38;5;132;01m}\u001b[39;00m\u001b[38;5;124m, true value: \u001b[39m\u001b[38;5;132;01m{\u001b[39;00mtarget\u001b[38;5;132;01m}\u001b[39;00m\u001b[38;5;124m'\u001b[39m)\n",
      "File \u001b[0;32m~/github/NewsHeadlinePolitics/src/model.py:70\u001b[0m, in \u001b[0;36mbayes_prediction\u001b[0;34m(x, X, y)\u001b[0m\n\u001b[1;32m     68\u001b[0m     label_p\u001b[38;5;241m=\u001b[39m\u001b[38;5;241m0\u001b[39m\n\u001b[1;32m     69\u001b[0m     \u001b[38;5;28;01mfor\u001b[39;00m i \u001b[38;5;129;01min\u001b[39;00m \u001b[38;5;28mrange\u001b[39m(\u001b[38;5;241m-\u001b[39m\u001b[38;5;241m2\u001b[39m,\u001b[38;5;241m3\u001b[39m):\n\u001b[0;32m---> 70\u001b[0m         theta\u001b[38;5;241m=\u001b[39m\u001b[38;5;28msum\u001b[39m([\u001b[38;5;241m1\u001b[39m \u001b[38;5;28;01mfor\u001b[39;00m item \u001b[38;5;129;01min\u001b[39;00m y \u001b[38;5;28;01mif\u001b[39;00m item\u001b[38;5;241m==\u001b[39mi])\u001b[38;5;241m/\u001b[39m\u001b[43mX\u001b[49m\u001b[38;5;241;43m.\u001b[39;49m\u001b[43mshape\u001b[49m[\u001b[38;5;241m0\u001b[39m]\n\u001b[1;32m     71\u001b[0m         l\u001b[38;5;241m=\u001b[39mtheta\n\u001b[1;32m     72\u001b[0m         \u001b[38;5;28;01mfor\u001b[39;00m j \u001b[38;5;129;01min\u001b[39;00m \u001b[38;5;28mrange\u001b[39m(X\u001b[38;5;241m.\u001b[39mshape[\u001b[38;5;241m1\u001b[39m]):\n\u001b[1;32m     73\u001b[0m \u001b[38;5;66;03m#             print(j)\u001b[39;00m\n\u001b[1;32m     74\u001b[0m \u001b[38;5;66;03m#             print(f\"p_cond={p_cond(x,i,j,X,y)}\" )\u001b[39;00m\n",
      "\u001b[0;31mAttributeError\u001b[0m: 'list' object has no attribute 'shape'"
     ]
    }
   ],
   "source": [
    "count_correct=0\n",
    "for i in range(20):\n",
    "    pred = model.bayes_prediction(X[i,:],X,y)\n",
    "    target = y[i]\n",
    "    print(f'predicting: {pred}, true value: {target}')\n",
    "    if pred==target:\n",
    "        count_correct+=1"
   ]
  },
  {
   "cell_type": "code",
   "execution_count": null,
   "id": "88d8b8b3",
   "metadata": {},
   "outputs": [],
   "source": [
    "To measure the performance of the data, we calculate the probablity of success."
   ]
  },
  {
   "cell_type": "code",
   "execution_count": null,
   "id": "cf45488e",
   "metadata": {},
   "outputs": [],
   "source": [
    "count_correct/20"
   ]
  }
 ],
 "metadata": {
  "kernelspec": {
   "display_name": "Python 3 (ipykernel)",
   "language": "python",
   "name": "python3"
  },
  "language_info": {
   "codemirror_mode": {
    "name": "ipython",
    "version": 3
   },
   "file_extension": ".py",
   "mimetype": "text/x-python",
   "name": "python",
   "nbconvert_exporter": "python",
   "pygments_lexer": "ipython3",
   "version": "3.9.12"
  }
 },
 "nbformat": 4,
 "nbformat_minor": 5
}
