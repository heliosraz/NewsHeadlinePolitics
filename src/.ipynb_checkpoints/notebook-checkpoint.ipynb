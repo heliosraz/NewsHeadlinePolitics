{
 "cells": [
  {
   "cell_type": "code",
   "execution_count": 1,
   "id": "a4ebe2fe",
   "metadata": {
    "scrolled": true,
    "tags": [
     "hide_code"
    ]
   },
   "outputs": [],
   "source": [
    "import main as m\n",
    "import numpy as np\n",
    "import matplotlib.pyplot as plt"
   ]
  },
  {
   "cell_type": "markdown",
   "id": "795c2db1",
   "metadata": {},
   "source": [
    "<center> <h1> Analyzing News Headlines Political Alignment Using Deep Learning<sup>(1)</sup> </h1>\n",
    "<h4>Sunny Zhou</h4></center>\n",
    "<h2> 1. Background </h2>\n",
    "&nbsp;&nbsp;&nbsp;&nbsp;&nbsp;&nbsp;Now more than ever, the world is divided. The news has become synonymous with political motivation and false information in recent years. Yet many people still rely on the news for the latest and accurate information. Even though most of the population has mixed political views, the 20% that do lean left or right influence political policies considerably and are more likely to block differing politics and surround themselves with like minded individuals (Mitchell, 2014). This is dangerous because it implies that the most influential people are closing off from other viewpoints, leading to polarization. Thus, to minimize this, it’s important that news sources convey their messages clearly and objectively.<br />\n",
    "&nbsp;&nbsp;&nbsp;&nbsp;&nbsp;&nbsp;This puts a particular importance on the headlines to these articles, considering that they are the first thing readers see. After a reader enters a page, in a matter of 50 ms, they will decide whether they should keep reading or leave (Lindgaard, 2006).  Authors know this, leading to misleading titles and the trend of clickbait. It would be no surprise if there is a trend in certain word frequencies. Higher frequencies of a word may alluding to focuses in specific topics (e.g. “mars” alluding to space travel) or specific literary devices (e.g. exaggeration of an event). Can we use these word frequency patterns to predict which political alignment the headline is?<br />\n",
    "&nbsp;&nbsp;&nbsp;&nbsp;&nbsp;&nbsp;With the sheer amount of data that can be gathered from the internet, I hypothesize that deep learning algorithms can provide insight into patterns that people otherwise wouldn’t detect. This project will particularly test whether Naive Bayes Classifier, a deep learning algorithm, can be used to the political alignment of news headlines. <br />\n",
    "<h2> 2. Methods </h2>\n",
    "<h3> 2.1 Data Collection</h3>\n",
    "&nbsp;&nbsp;&nbsp;&nbsp;&nbsp;&nbsp;Headlines from six news organizations (CNN, Fox News, Christan Science Monitor, New York Posts, New York Times, and Washington Post), were web-scraped using the python module BeautifulSoup. These organizations were chosen based on their political alignment (Mastrine, 2022) and their data accessibility through each organization’s sitemap.xml. The web-scraper was inputted each sitemap, which it looped through and gathered headlines of articles and their dates. The number of headlines ranged from 635,484 entries to 1,378 entries per website. The political leaning of each headline was determined by what site they came from, determined by Mastrine, 2022 (i.e. left: -2, left leaning: -1, moderate: 0, right leaning: 1, right: 2).<br />\n",
    "<h3> 2.2 Text-inverse document frequency </h3>\n",
    "&nbsp;&nbsp;&nbsp;&nbsp;&nbsp;&nbsp;To process the words from a mathematical standpoint, each headline first needs to be converted into a vector. Consider each unique word as its own individual category. The most intuitive value to assign to each entry is the relative frequency. This is the proportion of the headline each word takes up, which can be given by Equation (1). Here $\\text{w}_{frequency}$ represents word frequency, that is how many of a certain word is in the headline, and  $l_{headline}$ is the length of the headline, that is the number of words it has.<br /><br />\n",
    "<center>$p(word|headline)= \\frac{\\text{w}_{frequency}}{\\text{l}_{headline}}$</center><div style=\"text-align: right\">(1)</div><br />\n",
    "&nbsp;&nbsp;&nbsp;&nbsp;&nbsp;&nbsp;However, considering that syntactic categories, such as determiners and pronouns, occur disproportionately in sentences, using relative frequency of each word emphasizes the importance of such words in the matrix (Manning, 2009). The relative frequency must be multiplied by the inverse document frequency to solve this issue. This frequency relates the headline to other headlines, given by Equation (2). Here idf represents inverse-document frequency, N is number of headlines, and df is the number of documents containing the word (document frequency) (Manning, 2009).<br /><br />\n",
    "<center>$idf=log\\frac{N}{df}$</center><div style=\"text-align: right\">(2)</div>\n",
    "Here idf represents inverse-document frequency, N is number of headlines, and df is the number of documents containing the word (document frequency). <br />\n",
    "\n",
    "&nbsp;&nbsp;&nbsp;&nbsp;&nbsp;&nbsp;Thus, given by Equation (3), the resultant entry for every word in the vector is the product of the relative frequency and the inverse-document frequency. Once each headline is “stacked” on top of one another to store all the vectors together, it is called a term-inverse frequency document matrix. Note that in order to stack the headlines together, we also need to ensure that the rows are all of the same length. This implies that each row must contain an entry for words in all of the headlines. Specifically, the entry of the words that aren’t in the specific headline would be a zero. Only a subset of the headlines underwent this process. This was determined randomly through the python module random, choosing only the specified sample amount. <br /><br />\n",
    "<center>$tfidf=\\underbrace{\\frac{\\text{w}_{frequency}}{\\text{l}_{headline}}}_{\\text{relative frequency}}*\\underbrace{log\\frac{N}{df}}_{\\text{inverse document frequency}}$</center><div style=\"text-align: right\">(3)</div><br />\n",
    "\n",
    "<h3>2.3 Naive Bayes Classifier</h3>\n",
    "&nbsp;&nbsp;&nbsp;&nbsp;&nbsp;&nbsp;Naive Bayes classification is a deep learning powerful tool, since it requires low amounts of data, and has the ability to process discrete data. Most importantly, Naive Bayes is a supervised learning algorithm, meaning it requires a data set with labels to be already given. This data set in this project is the term-inverse document matrix <br />\n",
    "&nbsp;&nbsp;&nbsp;&nbsp;&nbsp;&nbsp;A key assumption made by this model is that the event of each word is independent, thus the probability that a specific headline is found based on one of the classification categories can be determined through Bayes Rule, as shown by Equation (4). The distribution to find the interaction probability is assumed to be Normal for this study. <br /><br />\n",
    "<center>$$</center><div style=\"text-align: right\">(3)</div><br />\n",
    "<small>(1) The code for this project can be found on Github: https://github.com/heliosraz/NewsHeadlinePolitics.git</small>\n"
   ]
  },
  {
   "cell_type": "markdown",
   "id": "6b58fe86",
   "metadata": {},
   "source": [
    "<h2> Results </h2>\n",
    "Headlines from six websites (CNN, Fox News, Christan Science Monitor, New York Posts, New York Times, and Washington Post), were scraped using python module BeautifulSoup. The number of headlines ranged from 635,484 entries to 1,378 entries per website. These sites were chosen based on political alignmnet, based on  and data accessibility. \n",
    "We evaluated the headline with Naive Baye’s Classification. \n",
    "The results were inconclusive. Some issues we ran into were …. With further \n",
    "\n",
    "Here is a test of the model. Below you can see the news outlets we scraped from. We intended on gavering more, but we unable to finish the scrapping."
   ]
  },
  {
   "cell_type": "code",
   "execution_count": 5,
   "id": "10b6f3e6",
   "metadata": {
    "scrolled": true,
    "tags": [
     "hide_code"
    ]
   },
   "outputs": [
    {
     "name": "stdout",
     "output_type": "stream",
     "text": [
      "['nyt_headlines.csv', 'foxnews_headlines.csv', 'washingtonpost_headlines.csv', 'csmonitor_headlines.csv', 'nypost_headlines.csv', 'cnn_headlines.csv']\n",
      "test join()\n"
     ]
    },
    {
     "name": "stderr",
     "output_type": "stream",
     "text": [
      "/Users/local/github/NewsHeadlinePolitics/src/naive_bayes.py:43: RuntimeWarning: overflow encountered in double_scalars\n",
      "  l*=N(x,i,j,X,y)\n",
      "/Users/local/github/NewsHeadlinePolitics/src/naive_bayes.py:15: RuntimeWarning: overflow encountered in exp\n",
      "  return np.sqrt(1/(2*np.pi*var))*(np.exp((-(x-mu))**2/(2*var)))\n"
     ]
    },
    {
     "name": "stdout",
     "output_type": "stream",
     "text": [
      "the percent of accuracy is: 0.5\n",
      "--------------------------------------------\n",
      "['nyt_headlines.csv', 'foxnews_headlines.csv', 'washingtonpost_headlines.csv', 'csmonitor_headlines.csv', 'nypost_headlines.csv', 'cnn_headlines.csv']\n",
      "test join()\n"
     ]
    },
    {
     "name": "stderr",
     "output_type": "stream",
     "text": [
      "/Users/local/github/NewsHeadlinePolitics/src/naive_bayes.py:43: RuntimeWarning: overflow encountered in double_scalars\n",
      "  l*=N(x,i,j,X,y)\n",
      "/Users/local/github/NewsHeadlinePolitics/src/naive_bayes.py:15: RuntimeWarning: overflow encountered in exp\n",
      "  return np.sqrt(1/(2*np.pi*var))*(np.exp((-(x-mu))**2/(2*var)))\n"
     ]
    },
    {
     "name": "stdout",
     "output_type": "stream",
     "text": [
      "the percent of accuracy is: 0.16666666666666666\n",
      "--------------------------------------------\n",
      "['nyt_headlines.csv', 'foxnews_headlines.csv', 'washingtonpost_headlines.csv', 'csmonitor_headlines.csv', 'nypost_headlines.csv', 'cnn_headlines.csv']\n",
      "test join()\n"
     ]
    },
    {
     "name": "stderr",
     "output_type": "stream",
     "text": [
      "/Users/local/github/NewsHeadlinePolitics/src/naive_bayes.py:43: RuntimeWarning: overflow encountered in double_scalars\n",
      "  l*=N(x,i,j,X,y)\n",
      "/Users/local/github/NewsHeadlinePolitics/src/naive_bayes.py:15: RuntimeWarning: overflow encountered in exp\n",
      "  return np.sqrt(1/(2*np.pi*var))*(np.exp((-(x-mu))**2/(2*var)))\n"
     ]
    },
    {
     "name": "stdout",
     "output_type": "stream",
     "text": [
      "the percent of accuracy is: 0.16666666666666666\n",
      "--------------------------------------------\n",
      "['nyt_headlines.csv', 'foxnews_headlines.csv', 'washingtonpost_headlines.csv', 'csmonitor_headlines.csv', 'nypost_headlines.csv', 'cnn_headlines.csv']\n",
      "test join()\n"
     ]
    },
    {
     "name": "stderr",
     "output_type": "stream",
     "text": [
      "/Users/local/github/NewsHeadlinePolitics/src/naive_bayes.py:43: RuntimeWarning: overflow encountered in double_scalars\n",
      "  l*=N(x,i,j,X,y)\n",
      "/Users/local/github/NewsHeadlinePolitics/src/naive_bayes.py:15: RuntimeWarning: overflow encountered in exp\n",
      "  return np.sqrt(1/(2*np.pi*var))*(np.exp((-(x-mu))**2/(2*var)))\n"
     ]
    },
    {
     "name": "stdout",
     "output_type": "stream",
     "text": [
      "the percent of accuracy is: 0.25\n",
      "--------------------------------------------\n",
      "['nyt_headlines.csv', 'foxnews_headlines.csv', 'washingtonpost_headlines.csv', 'csmonitor_headlines.csv', 'nypost_headlines.csv', 'cnn_headlines.csv']\n",
      "test join()\n"
     ]
    },
    {
     "name": "stderr",
     "output_type": "stream",
     "text": [
      "/Users/local/github/NewsHeadlinePolitics/src/naive_bayes.py:43: RuntimeWarning: overflow encountered in double_scalars\n",
      "  l*=N(x,i,j,X,y)\n",
      "/Users/local/github/NewsHeadlinePolitics/src/naive_bayes.py:15: RuntimeWarning: overflow encountered in exp\n",
      "  return np.sqrt(1/(2*np.pi*var))*(np.exp((-(x-mu))**2/(2*var)))\n"
     ]
    },
    {
     "name": "stdout",
     "output_type": "stream",
     "text": [
      "the percent of accuracy is: 0.3333333333333333\n",
      "--------------------------------------------\n"
     ]
    }
   ],
   "source": [
    "results=[]\n",
    "samples=[100, 200, 300, 500, 1000]\n",
    "for i in samples:\n",
    "    results.append(m.main(range(12),i))"
   ]
  },
  {
   "cell_type": "code",
   "execution_count": 3,
   "id": "59935079",
   "metadata": {},
   "outputs": [
    {
     "data": {
      "text/plain": [
       "Text(0, 0.5, 'Accuracy')"
      ]
     },
     "execution_count": 3,
     "metadata": {},
     "output_type": "execute_result"
    },
    {
     "data": {
      "image/png": "[encoded data removed]",
      "text/plain": [
       "<Figure size 640x480 with 1 Axes>"
      ]
     },
     "metadata": {},
     "output_type": "display_data"
    }
   ],
   "source": [
    "plt.plot(samples, results)\n",
    "plt.xlabel('Number of Samples')\n",
    "plt.ylabel('Accuracy')"
   ]
  },
  {
   "cell_type": "markdown",
   "id": "b4cc8458",
   "metadata": {},
   "source": [
    "The accuracy of the model is very low. This means that the not a high connection between word choice and political alignment. "
   ]
  }
 ],
 "metadata": {
  "celltoolbar": "Tags",
  "kernelspec": {
   "display_name": "Python 3 (ipykernel)",
   "language": "python",
   "name": "python3"
  },
  "language_info": {
   "codemirror_mode": {
    "name": "ipython",
    "version": 3
   },
   "file_extension": ".py",
   "mimetype": "text/x-python",
   "name": "python",
   "nbconvert_exporter": "python",
   "pygments_lexer": "ipython3",
   "version": "3.9.12"
  }
 },
 "nbformat": 4,
 "nbformat_minor": 5
}
