{
 "cells": [
  {
   "cell_type": "markdown",
   "id": "795c2db1",
   "metadata": {},
   "source": [
    "# Political Specturm of New Headlines\n",
    "The purpose of this task is to predict whether news headlines hold political semantic value"
   ]
  },
  {
   "cell_type": "code",
   "execution_count": 1,
   "id": "a4ebe2fe",
   "metadata": {
    "scrolled": true
   },
   "outputs": [],
   "source": [
    "import model\n",
    "import numpy as np"
   ]
  },
  {
   "cell_type": "markdown",
   "id": "6b58fe86",
   "metadata": {},
   "source": [
    "We use a Naive Bayes model to predict which political ___ the headline leans. The higher the probablity the higher the confidence. "
   ]
  },
  {
   "cell_type": "code",
   "execution_count": 2,
   "id": "d5484178",
   "metadata": {},
   "outputs": [],
   "source": [
    "X=[]\n",
    "y=[]"
   ]
  },
  {
   "cell_type": "code",
   "execution_count": null,
   "id": "29cbe709",
   "metadata": {
    "scrolled": true
   },
   "outputs": [
    {
     "name": "stdout",
     "output_type": "stream",
     "text": [
      "['nyt_headlines.csv', 'foxnews_headlines.csv', 'washingtonpost_headlines.csv', 'csmonitor_headlines.csv', 'nypost_headlines.csv', 'cnn_headlines.csv']\n"
     ]
    }
   ],
   "source": [
    "term_document_matrices,y=model.term_matrix()\n",
    "\n",
    "for i in term_document_matrices:\n",
    "    for j in i:\n",
    "        X.append(j)"
   ]
  },
  {
   "cell_type": "markdown",
   "id": "165aa0c5",
   "metadata": {},
   "source": [
    "We will be testing the model here"
   ]
  },
  {
   "cell_type": "code",
   "execution_count": null,
   "id": "10b6f3e6",
   "metadata": {
    "scrolled": true
   },
   "outputs": [],
   "source": [
    "X=np.matrix(X)\n",
    "y=np.array(y).ravel()\n",
    "count_correct=0\n",
    "for i in range(20):\n",
    "    print(i)\n",
    "    pred = model.bayes_prediction(X[i,:],X,y)\n",
    "    target = y[i]\n",
    "    print(f'predicting: {pred}, true value: {target}')\n",
    "    if pred==target:\n",
    "        count_correct+=1"
   ]
  },
  {
   "cell_type": "code",
   "execution_count": null,
   "id": "88d8b8b3",
   "metadata": {},
   "outputs": [],
   "source": [
    "To measure the performance of the data, we calculate the probablity of success."
   ]
  },
  {
   "cell_type": "code",
   "execution_count": null,
   "id": "cf45488e",
   "metadata": {},
   "outputs": [],
   "source": [
    "count_correct/20"
   ]
  }
 ],
 "metadata": {
  "kernelspec": {
   "display_name": "Python 3 (ipykernel)",
   "language": "python",
   "name": "python3"
  },
  "language_info": {
   "codemirror_mode": {
    "name": "ipython",
    "version": 3
   },
   "file_extension": ".py",
   "mimetype": "text/x-python",
   "name": "python",
   "nbconvert_exporter": "python",
   "pygments_lexer": "ipython3",
   "version": "3.9.12"
  }
 },
 "nbformat": 4,
 "nbformat_minor": 5
}
