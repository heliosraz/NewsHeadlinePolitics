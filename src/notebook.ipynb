{
 "cells": [
  {
   "cell_type": "markdown",
   "id": "795c2db1",
   "metadata": {},
   "source": [
    "# Political Specturm of New Headlines\n",
    "The purpose of this task is to predict whether news headlines hold political semantic value"
   ]
  },
  {
   "cell_type": "code",
   "execution_count": 1,
   "id": "a4ebe2fe",
   "metadata": {
    "scrolled": true
   },
   "outputs": [],
   "source": [
    "import main as m\n",
    "import numpy as np\n",
    "import matplotlib.pyplot as plt"
   ]
  },
  {
   "cell_type": "markdown",
   "id": "6b58fe86",
   "metadata": {},
   "source": [
    "We use a Naive Bayes model to predict which political alignment of the headline leans. The higher the probablity the higher the confidence in the prediction by the model. Here is a test of the model. Above you can see the news outlets we scraped from. We intended on gavering more, but we unable to finish the scrapping."
   ]
  },
  {
   "cell_type": "code",
   "execution_count": 2,
   "id": "29cbe709",
   "metadata": {
    "scrolled": false
   },
   "outputs": [
    {
     "name": "stderr",
     "output_type": "stream",
     "text": [
      "/Users/local/github/NewsHeadlinePolitics/src/naive_bayes.py:43: RuntimeWarning: overflow encountered in double_scalars\n",
      "  l*=N(x,i,j,X,y)\n",
      "/Users/local/github/NewsHeadlinePolitics/src/naive_bayes.py:15: RuntimeWarning: overflow encountered in exp\n",
      "  return np.sqrt(1/(2*np.pi*var))*(np.exp((-(x-mu))**2/(2*var)))\n"
     ]
    },
    {
     "name": "stdout",
     "output_type": "stream",
     "text": [
      "the percent of accuracy is: 0.0\n",
      "--------------------------------------------\n"
     ]
    },
    {
     "name": "stderr",
     "output_type": "stream",
     "text": [
      "/Users/local/github/NewsHeadlinePolitics/src/naive_bayes.py:43: RuntimeWarning: overflow encountered in double_scalars\n",
      "  l*=N(x,i,j,X,y)\n",
      "/Users/local/github/NewsHeadlinePolitics/src/naive_bayes.py:15: RuntimeWarning: overflow encountered in exp\n",
      "  return np.sqrt(1/(2*np.pi*var))*(np.exp((-(x-mu))**2/(2*var)))\n"
     ]
    },
    {
     "name": "stdout",
     "output_type": "stream",
     "text": [
      "the percent of accuracy is: 0.08333333333333333\n",
      "--------------------------------------------\n"
     ]
    },
    {
     "name": "stderr",
     "output_type": "stream",
     "text": [
      "/Users/local/github/NewsHeadlinePolitics/src/naive_bayes.py:15: RuntimeWarning: overflow encountered in exp\n",
      "  return np.sqrt(1/(2*np.pi*var))*(np.exp((-(x-mu))**2/(2*var)))\n",
      "/Users/local/github/NewsHeadlinePolitics/src/naive_bayes.py:43: RuntimeWarning: overflow encountered in double_scalars\n",
      "  l*=N(x,i,j,X,y)\n"
     ]
    },
    {
     "name": "stdout",
     "output_type": "stream",
     "text": [
      "the percent of accuracy is: 0.16666666666666666\n",
      "--------------------------------------------\n"
     ]
    },
    {
     "name": "stderr",
     "output_type": "stream",
     "text": [
      "/Users/local/github/NewsHeadlinePolitics/src/naive_bayes.py:43: RuntimeWarning: overflow encountered in double_scalars\n",
      "  l*=N(x,i,j,X,y)\n",
      "/Users/local/github/NewsHeadlinePolitics/src/naive_bayes.py:15: RuntimeWarning: overflow encountered in exp\n",
      "  return np.sqrt(1/(2*np.pi*var))*(np.exp((-(x-mu))**2/(2*var)))\n"
     ]
    },
    {
     "name": "stdout",
     "output_type": "stream",
     "text": [
      "the percent of accuracy is: 0.16666666666666666\n",
      "--------------------------------------------\n"
     ]
    },
    {
     "name": "stderr",
     "output_type": "stream",
     "text": [
      "/Users/local/github/NewsHeadlinePolitics/src/naive_bayes.py:43: RuntimeWarning: overflow encountered in double_scalars\n",
      "  l*=N(x,i,j,X,y)\n",
      "/Users/local/github/NewsHeadlinePolitics/src/naive_bayes.py:15: RuntimeWarning: overflow encountered in exp\n",
      "  return np.sqrt(1/(2*np.pi*var))*(np.exp((-(x-mu))**2/(2*var)))\n"
     ]
    },
    {
     "name": "stdout",
     "output_type": "stream",
     "text": [
      "the percent of accuracy is: 0.16666666666666666\n",
      "--------------------------------------------\n"
     ]
    }
   ],
   "source": [
    "results=[]\n",
    "samples=[100, 200, 300, 500, 1000]\n",
    "for i in samples:\n",
    "    results.append(m.main(range(12),i))"
   ]
  },
  {
   "cell_type": "code",
   "execution_count": 3,
   "id": "44428995",
   "metadata": {},
   "outputs": [
    {
     "data": {
      "text/plain": [
       "Text(0, 0.5, 'Accuracy')"
      ]
     },
     "execution_count": 3,
     "metadata": {},
     "output_type": "execute_result"
    },
    {
     "data": {
      "image/png": "[encoded data removed]",
      "text/plain": [
       "<Figure size 640x480 with 1 Axes>"
      ]
     },
     "metadata": {},
     "output_type": "display_data"
    }
   ],
   "source": [
    "plt.plot(samples, results)\n",
    "plt.xlabel('Number of Samples')\n",
    "plt.ylabel('Accuracy')"
   ]
  }
 ],
 "metadata": {
  "kernelspec": {
   "display_name": "Python 3 (ipykernel)",
   "language": "python",
   "name": "python3"
  },
  "language_info": {
   "codemirror_mode": {
    "name": "ipython",
    "version": 3
   },
   "file_extension": ".py",
   "mimetype": "text/x-python",
   "name": "python",
   "nbconvert_exporter": "python",
   "pygments_lexer": "ipython3",
   "version": "3.9.12"
  }
 },
 "nbformat": 4,
 "nbformat_minor": 5
}
